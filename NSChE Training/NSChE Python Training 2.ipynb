{
 "cells": [
  {
   "cell_type": "markdown",
   "id": "1320c899-77ec-4097-afd6-21088b22cbbd",
   "metadata": {},
   "source": [
    "# Numpy\n",
    "NumPy is a Python library used for working with arrays. It also has functions for working in domain of linear algebra, fourier transform, and matrices."
   ]
  },
  {
   "cell_type": "code",
   "execution_count": 2,
   "id": "86ab2f26-c604-41d7-8403-6111f2738359",
   "metadata": {},
   "outputs": [],
   "source": [
    "import numpy as np"
   ]
  },
  {
   "cell_type": "code",
   "execution_count": 4,
   "id": "14fc7315-6df7-44ea-9961-65d47dd5e280",
   "metadata": {},
   "outputs": [
    {
     "data": {
      "text/plain": [
       "array([1, 2, 3, 4])"
      ]
     },
     "execution_count": 4,
     "metadata": {},
     "output_type": "execute_result"
    }
   ],
   "source": [
    "my_list1 = [1, 2, 3, 4]\n",
    "my_array1 = np.array(my_list1) # creates a one dimensional array\n",
    "my_array1"
   ]
  },
  {
   "cell_type": "code",
   "execution_count": 30,
   "id": "74c33adc-97fb-4232-9f09-98b0d289bf75",
   "metadata": {},
   "outputs": [
    {
     "data": {
      "text/plain": [
       "array([[ 1,  2,  3,  4],\n",
       "       [11, 22, 33, 44]])"
      ]
     },
     "execution_count": 30,
     "metadata": {},
     "output_type": "execute_result"
    }
   ],
   "source": [
    "my_list2 = [11, 22, 33, 44]\n",
    "my_lists = [my_list1, my_list2]\n",
    "my_array2 = np.array(my_lists) # Creates a multi dimensional array\n",
    "my_array2\n"
   ]
  },
  {
   "cell_type": "code",
   "execution_count": 10,
   "id": "02a089ca-0ab7-4f28-aa7a-7c0a6cbf8c58",
   "metadata": {},
   "outputs": [
    {
     "data": {
      "text/plain": [
       "([1, 2, 3], [4, 5, 6])"
      ]
     },
     "execution_count": 10,
     "metadata": {},
     "output_type": "execute_result"
    }
   ],
   "source": [
    "# Creating from scratch\n",
    "my_array_2d = (([1, 2, 3], [4, 5, 6]))\n",
    "my_array_2d"
   ]
  },
  {
   "cell_type": "code",
   "execution_count": 22,
   "id": "1714ee4f-3916-4052-9a6c-8d4c394ed685",
   "metadata": {},
   "outputs": [
    {
     "data": {
      "text/plain": [
       "(2, 4)"
      ]
     },
     "execution_count": 22,
     "metadata": {},
     "output_type": "execute_result"
    }
   ],
   "source": [
    "my_array2.shape "
   ]
  },
  {
   "cell_type": "code",
   "execution_count": 32,
   "id": "ac19f0b9-a22c-49f6-853a-a76fd681b809",
   "metadata": {},
   "outputs": [
    {
     "data": {
      "text/plain": [
       "dtype('int32')"
      ]
     },
     "execution_count": 32,
     "metadata": {},
     "output_type": "execute_result"
    }
   ],
   "source": [
    "my_array2.dtype"
   ]
  },
  {
   "cell_type": "code",
   "execution_count": 40,
   "id": "37a74c9e-c52a-4b57-b76d-d14805820730",
   "metadata": {},
   "outputs": [
    {
     "data": {
      "text/plain": [
       "array([0., 0., 0., 0., 0.])"
      ]
     },
     "execution_count": 40,
     "metadata": {},
     "output_type": "execute_result"
    }
   ],
   "source": [
    "# Special case Arrays\n",
    "np.zeros(5)"
   ]
  },
  {
   "cell_type": "code",
   "execution_count": 42,
   "id": "394153b1-5b2e-443e-84b3-a95f415a340c",
   "metadata": {},
   "outputs": [
    {
     "data": {
      "text/plain": [
       "array([[1., 0., 0., 0., 0.],\n",
       "       [0., 1., 0., 0., 0.],\n",
       "       [0., 0., 1., 0., 0.],\n",
       "       [0., 0., 0., 1., 0.],\n",
       "       [0., 0., 0., 0., 1.]])"
      ]
     },
     "execution_count": 42,
     "metadata": {},
     "output_type": "execute_result"
    }
   ],
   "source": [
    "np.eye(5) #identity array"
   ]
  },
  {
   "cell_type": "code",
   "execution_count": 56,
   "id": "8c7f9c52-1a63-4b53-990a-d17e56e03474",
   "metadata": {},
   "outputs": [
    {
     "data": {
      "text/plain": [
       "array([[1., 1., 1., 1.],\n",
       "       [1., 1., 1., 1.],\n",
       "       [1., 1., 1., 1.],\n",
       "       [1., 1., 1., 1.]])"
      ]
     },
     "execution_count": 56,
     "metadata": {},
     "output_type": "execute_result"
    }
   ],
   "source": [
    "np.ones((4, 4))"
   ]
  },
  {
   "cell_type": "code",
   "execution_count": 66,
   "id": "f3e59ef7-dfbf-4050-bf87-4a522bbd4337",
   "metadata": {},
   "outputs": [
    {
     "data": {
      "text/plain": [
       "array([[1.34997083e-311, 5.82997462e-322, 0.00000000e+000,\n",
       "        0.00000000e+000],\n",
       "       [7.56599806e-307, 1.15998412e-028, 4.31603868e-080,\n",
       "        1.94919985e-153],\n",
       "       [1.35717430e+131, 8.48576822e-096, 9.58659700e+140,\n",
       "        6.01347002e-154],\n",
       "       [2.99938012e-067, 1.28822639e-057, 1.06239598e-153,\n",
       "        3.98472821e+252],\n",
       "       [1.06244660e-153, 9.78750380e+199, 6.97843734e+252,\n",
       "        2.26859779e-306]])"
      ]
     },
     "execution_count": 66,
     "metadata": {},
     "output_type": "execute_result"
    }
   ],
   "source": [
    "np.empty((5, 4), dtype=float) # Used to create an array of a given size without any entries"
   ]
  },
  {
   "cell_type": "code",
   "execution_count": 68,
   "id": "a36373bc-53c9-4b58-8f18-3edd8e67d095",
   "metadata": {},
   "outputs": [],
   "source": [
    "arr1 = np.array([[1,2,3], [8,9,10]])"
   ]
  },
  {
   "cell_type": "code",
   "execution_count": 70,
   "id": "1d80f947-b39b-4479-bf64-36a9d913754e",
   "metadata": {},
   "outputs": [
    {
     "data": {
      "text/plain": [
       "array([[ 1,  2,  3],\n",
       "       [ 8,  9, 10]])"
      ]
     },
     "execution_count": 70,
     "metadata": {},
     "output_type": "execute_result"
    }
   ],
   "source": [
    "arr1"
   ]
  },
  {
   "cell_type": "code",
   "execution_count": 72,
   "id": "3e198341-f538-4aef-a007-36b3e6527ee7",
   "metadata": {},
   "outputs": [
    {
     "data": {
      "text/plain": [
       "array([[ 2,  4,  6],\n",
       "       [16, 18, 20]])"
      ]
     },
     "execution_count": 72,
     "metadata": {},
     "output_type": "execute_result"
    }
   ],
   "source": [
    "# Adding arrays\n",
    "arr1 + arr1"
   ]
  },
  {
   "cell_type": "code",
   "execution_count": 74,
   "id": "21ce3f0b-19bb-4696-aa8f-23c944324fc5",
   "metadata": {},
   "outputs": [
    {
     "data": {
      "text/plain": [
       "array([[  1,   4,   9],\n",
       "       [ 64,  81, 100]])"
      ]
     },
     "execution_count": 74,
     "metadata": {},
     "output_type": "execute_result"
    }
   ],
   "source": [
    "# Multiplying arrays\n",
    "arr1 * arr1"
   ]
  },
  {
   "cell_type": "code",
   "execution_count": 76,
   "id": "f253495d-ee10-451c-94d9-068ddce71350",
   "metadata": {},
   "outputs": [
    {
     "data": {
      "text/plain": [
       "array([[0, 0, 0],\n",
       "       [0, 0, 0]])"
      ]
     },
     "execution_count": 76,
     "metadata": {},
     "output_type": "execute_result"
    }
   ],
   "source": [
    "arr1 - arr1"
   ]
  },
  {
   "cell_type": "code",
   "execution_count": 90,
   "id": "7465437f-94b3-4c3c-8f05-6e7b6f0f212d",
   "metadata": {},
   "outputs": [
    {
     "data": {
      "text/plain": [
       "array([10,  9,  8,  7,  6,  5,  4,  3,  2])"
      ]
     },
     "execution_count": 90,
     "metadata": {},
     "output_type": "execute_result"
    }
   ],
   "source": [
    "arr2 = np.arange(10, 1, -1)\n",
    "arr2"
   ]
  },
  {
   "cell_type": "code",
   "execution_count": 98,
   "id": "9e2ba40a-dbff-4db8-8928-b43722cd592e",
   "metadata": {},
   "outputs": [
    {
     "data": {
      "text/plain": [
       "array([[ 5, 10, 15],\n",
       "       [20, 25, 30],\n",
       "       [35, 40, 45]])"
      ]
     },
     "execution_count": 98,
     "metadata": {},
     "output_type": "execute_result"
    }
   ],
   "source": [
    "#Indexing a 2D Array\n",
    "arr = np.array(([5,10,15],[20,25,30],[35,40,45]))\n",
    "arr"
   ]
  },
  {
   "cell_type": "code",
   "execution_count": 110,
   "id": "3cb7edb8-4cce-4fef-acd5-7a6af35216e4",
   "metadata": {},
   "outputs": [
    {
     "data": {
      "text/plain": [
       "array([[20, 25, 30],\n",
       "       [35, 40, 45]])"
      ]
     },
     "execution_count": 110,
     "metadata": {},
     "output_type": "execute_result"
    }
   ],
   "source": [
    "arr[1:]"
   ]
  },
  {
   "cell_type": "code",
   "execution_count": 112,
   "id": "7a227930-92a5-49ba-98d9-e1e686073654",
   "metadata": {},
   "outputs": [
    {
     "data": {
      "text/plain": [
       "array([[ 5, 10, 15],\n",
       "       [20, 25, 30],\n",
       "       [35, 40, 45]])"
      ]
     },
     "execution_count": 112,
     "metadata": {},
     "output_type": "execute_result"
    }
   ],
   "source": [
    "arr"
   ]
  },
  {
   "cell_type": "code",
   "execution_count": 116,
   "id": "f8c13bf2-1be6-4338-8589-0c2aaaeb04ce",
   "metadata": {},
   "outputs": [
    {
     "data": {
      "text/plain": [
       "array([[ 5, 10],\n",
       "       [20, 25]])"
      ]
     },
     "execution_count": 116,
     "metadata": {},
     "output_type": "execute_result"
    }
   ],
   "source": [
    "arr[:2, :2]"
   ]
  },
  {
   "cell_type": "code",
   "execution_count": 22,
   "id": "d98e30b8-a611-4b66-ad8a-2503d5755df7",
   "metadata": {},
   "outputs": [],
   "source": [
    "# Use Cases\n",
    "data = [1, 2, 3, 4, 5, np.nan, 7, np.nan, 9, 10]\n",
    "data_arr = np.array(data)"
   ]
  },
  {
   "cell_type": "code",
   "execution_count": 24,
   "id": "f1513238-93e0-4520-b3c9-307ab6059f2c",
   "metadata": {},
   "outputs": [
    {
     "data": {
      "text/plain": [
       "array([ 1.,  2.,  3.,  4.,  5., nan,  7., nan,  9., 10.])"
      ]
     },
     "execution_count": 24,
     "metadata": {},
     "output_type": "execute_result"
    }
   ],
   "source": [
    "data_arr"
   ]
  },
  {
   "cell_type": "code",
   "execution_count": 32,
   "id": "1ba65211-8c8c-4d54-9569-127dfef70e70",
   "metadata": {},
   "outputs": [
    {
     "data": {
      "text/plain": [
       "array([False, False, False, False, False,  True, False,  True, False,\n",
       "       False])"
      ]
     },
     "execution_count": 32,
     "metadata": {},
     "output_type": "execute_result"
    }
   ],
   "source": [
    "# Data preprocessing\n",
    "# Test for missing values\n",
    "np.isnan(data_arr)"
   ]
  },
  {
   "cell_type": "code",
   "execution_count": 34,
   "id": "14abfee0-5d86-4af8-b761-c89958b6f749",
   "metadata": {},
   "outputs": [],
   "source": [
    "clean_data = np.nan_to_num(data_arr)"
   ]
  },
  {
   "cell_type": "code",
   "execution_count": 36,
   "id": "8cab7776-4cf9-496b-81c0-ed563c995b7a",
   "metadata": {},
   "outputs": [
    {
     "data": {
      "text/plain": [
       "array([ 1.,  2.,  3.,  4.,  5.,  0.,  7.,  0.,  9., 10.])"
      ]
     },
     "execution_count": 36,
     "metadata": {},
     "output_type": "execute_result"
    }
   ],
   "source": [
    "clean_data"
   ]
  },
  {
   "cell_type": "code",
   "execution_count": 40,
   "id": "8e8bb940-1792-47a2-97a1-abd8707af7db",
   "metadata": {},
   "outputs": [
    {
     "data": {
      "text/plain": [
       "array([ 1,  2,  3,  4,  5,  6,  7,  8,  9, 10])"
      ]
     },
     "execution_count": 40,
     "metadata": {},
     "output_type": "execute_result"
    }
   ],
   "source": [
    "# Computations\n",
    "\n",
    "my_list = [1, 2, 3, 4, 5, 6, 7, 8, 9, 10]\n",
    "\n",
    "arr = np.array(my_list)\n",
    "arr"
   ]
  },
  {
   "cell_type": "code",
   "execution_count": 50,
   "id": "72011363-1f61-4272-ba65-5dbde8c3bf12",
   "metadata": {},
   "outputs": [
    {
     "data": {
      "text/plain": [
       "dtype('int32')"
      ]
     },
     "execution_count": 50,
     "metadata": {},
     "output_type": "execute_result"
    }
   ],
   "source": [
    "arr.dtype"
   ]
  },
  {
   "cell_type": "code",
   "execution_count": 56,
   "id": "dc82aeb9-b25e-4252-84a5-7090ebf8041c",
   "metadata": {},
   "outputs": [
    {
     "data": {
      "text/plain": [
       "55"
      ]
     },
     "execution_count": 56,
     "metadata": {},
     "output_type": "execute_result"
    }
   ],
   "source": [
    "# sum\n",
    "arr_sum = np.sum(arr)\n",
    "arr_sum"
   ]
  },
  {
   "cell_type": "code",
   "execution_count": 60,
   "id": "2f3f8af1-04c4-4624-a415-681c9b522f94",
   "metadata": {},
   "outputs": [
    {
     "data": {
      "text/plain": [
       "5.5"
      ]
     },
     "execution_count": 60,
     "metadata": {},
     "output_type": "execute_result"
    }
   ],
   "source": [
    "# mean\n",
    "arr_mean = np.mean(arr)\n",
    "arr_mean"
   ]
  },
  {
   "cell_type": "code",
   "execution_count": 68,
   "id": "174b4705-99a2-41f7-b72a-e8c47aa29a14",
   "metadata": {},
   "outputs": [
    {
     "name": "stdout",
     "output_type": "stream",
     "text": [
      "2.8722813232690143\n",
      "8.25\n"
     ]
    }
   ],
   "source": [
    "arr_std, arr_var = np.std(arr), np.var(arr)\n",
    "print(arr_std)\n",
    "print(arr_var)"
   ]
  },
  {
   "cell_type": "code",
   "execution_count": 96,
   "id": "eeff0620-054f-4ac3-a35f-a1f78a1de8db",
   "metadata": {},
   "outputs": [
    {
     "name": "stdout",
     "output_type": "stream",
     "text": [
      "24.9 ms ± 1.53 ms per loop (mean ± std. dev. of 7 runs, 10 loops each)\n"
     ]
    }
   ],
   "source": [
    "%%timeit\n",
    "# Comparison with list\n",
    "\n",
    "size = 10**6\n",
    "my_list = list(range(size))\n",
    "my_array = np.arange(size)\n",
    "\n",
    "\n",
    "\n"
   ]
  },
  {
   "cell_type": "code",
   "execution_count": 98,
   "id": "272a4b86-d3a7-43c5-a7d0-98a0fcef1d02",
   "metadata": {},
   "outputs": [
    {
     "name": "stdout",
     "output_type": "stream",
     "text": [
      "64.8 ns ± 2.84 ns per loop (mean ± std. dev. of 7 runs, 10,000,000 loops each)\n"
     ]
    }
   ],
   "source": [
    "%%timeit\n",
    "def compute_list():\n",
    "    return [x**2 for x in my_list]\n"
   ]
  },
  {
   "cell_type": "code",
   "execution_count": 100,
   "id": "af2c08ef-4d2c-443e-a35d-a5b27303cd14",
   "metadata": {},
   "outputs": [
    {
     "name": "stdout",
     "output_type": "stream",
     "text": [
      "63.8 ns ± 1.62 ns per loop (mean ± std. dev. of 7 runs, 10,000,000 loops each)\n"
     ]
    }
   ],
   "source": [
    "%%timeit\n",
    "def compute_array():\n",
    "    return my_array * 2\n",
    "\n"
   ]
  },
  {
   "cell_type": "markdown",
   "id": "47f7d3d2-4ec1-442b-a034-c7abd97b5a20",
   "metadata": {},
   "source": [
    "# Pandas\n",
    "\n",
    "Pandas is a Python library used for working with data sets. It has functions for analyzing, cleaning, exploring, and manipulating data."
   ]
  },
  {
   "cell_type": "code",
   "execution_count": 6,
   "id": "a7ea67e3-2872-46da-b666-14361880ca22",
   "metadata": {},
   "outputs": [],
   "source": [
    "import pandas as pd\n",
    "\n",
    "employees_data = [\n",
    "    {\"Employee_ID\": 101, \"Name\": \"John Doe\", \"Age\": 35, \"Department\": \"Finance\", \"Salary\": 75000, \"Experience\": 10, \"Location\": \"New York\"},\n",
    "    {\"Employee_ID\": 102, \"Name\": \"Jane Smith\", \"Age\": 29, \"Department\": \"IT\", \"Salary\": 82000, \"Experience\": 7, \"Location\": \"San Francisco\"},\n",
    "    {\"Employee_ID\": 103, \"Name\": \"Samuel Johnson\", \"Age\": None, \"Department\": \"HR\", \"Salary\": 58000, \"Experience\": 5, \"Location\": \"Chicago\"},\n",
    "    {\"Employee_ID\": 104, \"Name\": \"Emily Davis\", \"Age\": 42, \"Department\": \"Marketing\", \"Salary\": 91000, \"Experience\": 15, \"Location\": \"Los Angeles\"},\n",
    "    {\"Employee_ID\": 105, \"Name\": \"Michael Brown\", \"Age\": 50, \"Department\": \"Operations\", \"Salary\": None, \"Experience\": 20, \"Location\": \"New York\"},\n",
    "    {\"Employee_ID\": 106, \"Name\": \"Jessica Wilson\", \"Age\": 27, \"Department\": \"Finance\", \"Salary\": 67000, \"Experience\": None, \"Location\": \"Chicago\"},\n",
    "    {\"Employee_ID\": 107, \"Name\": \"David Martinez\", \"Age\": 39, \"Department\": \"IT\", \"Salary\": 88000, \"Experience\": 12, \"Location\": None},\n",
    "    {\"Employee_ID\": 108, \"Name\": \"Sarah Lee\", \"Age\": None, \"Department\": \"HR\", \"Salary\": 62000, \"Experience\": 6, \"Location\": \"San Francisco\"},\n",
    "    {\"Employee_ID\": 109, \"Name\": \"William Taylor\", \"Age\": 45, \"Department\": \"Marketing\", \"Salary\": 95000, \"Experience\": 18, \"Location\": \"Los Angeles\"},\n",
    "    {\"Employee_ID\": 110, \"Name\": \"Olivia Anderson\", \"Age\": 30, \"Department\": \"Operations\", \"Salary\": 72000, \"Experience\": 8, \"Location\": \"Chicago\"},\n",
    "    {\"Employee_ID\": 111, \"Name\": None, \"Age\": 36, \"Department\": \"Finance\", \"Salary\": 81000, \"Experience\": 11, \"Location\": \"New York\"},\n",
    "    {\"Employee_ID\": 112, \"Name\": \"Ethan Thomas\", \"Age\": 33, \"Department\": None, \"Salary\": 77000, \"Experience\": 9, \"Location\": \"San Francisco\"},\n",
    "    {\"Employee_ID\": 113, \"Name\": \"Sophia Hernandez\", \"Age\": 28, \"Department\": \"HR\", \"Salary\": 60000, \"Experience\": 5, \"Location\": \"Chicago\"},\n",
    "    {\"Employee_ID\": 114, \"Name\": \"James Scott\", \"Age\": 41, \"Department\": \"Marketing\", \"Salary\": None, \"Experience\": 14, \"Location\": \"Los Angeles\"},\n",
    "    {\"Employee_ID\": 115, \"Name\": \"Mia King\", \"Age\": None, \"Department\": \"Operations\", \"Salary\": 73000, \"Experience\": 7, \"Location\": \"New York\"},\n",
    "    ]\n",
    "# Converting to a dataframe\n",
    "data = pd.DataFrame(employees_data)\n"
   ]
  },
  {
   "cell_type": "markdown",
   "id": "3299d4ef-6e41-4ce1-92a7-2664be35dcb8",
   "metadata": {},
   "source": [
    "# Exploring the data"
   ]
  },
  {
   "cell_type": "code",
   "execution_count": 8,
   "id": "f66f035c-216d-4121-b0bb-def36c5ac898",
   "metadata": {},
   "outputs": [],
   "source": [
    "data.to_csv(\"Employee_dataset.csv\", index=False)"
   ]
  },
  {
   "cell_type": "code",
   "execution_count": 45,
   "id": "41e771f7-0251-4e21-b47d-6dca2a5bef70",
   "metadata": {},
   "outputs": [
    {
     "data": {
      "text/html": [
       "<div>\n",
       "<style scoped>\n",
       "    .dataframe tbody tr th:only-of-type {\n",
       "        vertical-align: middle;\n",
       "    }\n",
       "\n",
       "    .dataframe tbody tr th {\n",
       "        vertical-align: top;\n",
       "    }\n",
       "\n",
       "    .dataframe thead th {\n",
       "        text-align: right;\n",
       "    }\n",
       "</style>\n",
       "<table border=\"1\" class=\"dataframe\">\n",
       "  <thead>\n",
       "    <tr style=\"text-align: right;\">\n",
       "      <th></th>\n",
       "      <th>Employee_ID</th>\n",
       "      <th>Name</th>\n",
       "      <th>Age</th>\n",
       "      <th>Department</th>\n",
       "      <th>Salary</th>\n",
       "      <th>Experience</th>\n",
       "      <th>Location</th>\n",
       "    </tr>\n",
       "  </thead>\n",
       "  <tbody>\n",
       "    <tr>\n",
       "      <th>12</th>\n",
       "      <td>113</td>\n",
       "      <td>Sophia Hernandez</td>\n",
       "      <td>28.0</td>\n",
       "      <td>HR</td>\n",
       "      <td>60000.0</td>\n",
       "      <td>5.0</td>\n",
       "      <td>Chicago</td>\n",
       "    </tr>\n",
       "    <tr>\n",
       "      <th>7</th>\n",
       "      <td>108</td>\n",
       "      <td>Sarah Lee</td>\n",
       "      <td>NaN</td>\n",
       "      <td>HR</td>\n",
       "      <td>62000.0</td>\n",
       "      <td>6.0</td>\n",
       "      <td>San Francisco</td>\n",
       "    </tr>\n",
       "    <tr>\n",
       "      <th>1</th>\n",
       "      <td>102</td>\n",
       "      <td>Jane Smith</td>\n",
       "      <td>29.0</td>\n",
       "      <td>IT</td>\n",
       "      <td>82000.0</td>\n",
       "      <td>7.0</td>\n",
       "      <td>San Francisco</td>\n",
       "    </tr>\n",
       "    <tr>\n",
       "      <th>6</th>\n",
       "      <td>107</td>\n",
       "      <td>David Martinez</td>\n",
       "      <td>39.0</td>\n",
       "      <td>IT</td>\n",
       "      <td>88000.0</td>\n",
       "      <td>12.0</td>\n",
       "      <td>None</td>\n",
       "    </tr>\n",
       "    <tr>\n",
       "      <th>13</th>\n",
       "      <td>114</td>\n",
       "      <td>James Scott</td>\n",
       "      <td>41.0</td>\n",
       "      <td>Marketing</td>\n",
       "      <td>NaN</td>\n",
       "      <td>14.0</td>\n",
       "      <td>Los Angeles</td>\n",
       "    </tr>\n",
       "  </tbody>\n",
       "</table>\n",
       "</div>"
      ],
      "text/plain": [
       "    Employee_ID              Name   Age Department   Salary  Experience  \\\n",
       "12          113  Sophia Hernandez  28.0         HR  60000.0         5.0   \n",
       "7           108         Sarah Lee   NaN         HR  62000.0         6.0   \n",
       "1           102        Jane Smith  29.0         IT  82000.0         7.0   \n",
       "6           107    David Martinez  39.0         IT  88000.0        12.0   \n",
       "13          114       James Scott  41.0  Marketing      NaN        14.0   \n",
       "\n",
       "         Location  \n",
       "12        Chicago  \n",
       "7   San Francisco  \n",
       "1   San Francisco  \n",
       "6            None  \n",
       "13    Los Angeles  "
      ]
     },
     "execution_count": 45,
     "metadata": {},
     "output_type": "execute_result"
    }
   ],
   "source": [
    "# Retrieve random five rows\n",
    "data.sample(5)"
   ]
  },
  {
   "cell_type": "code",
   "execution_count": 12,
   "id": "9c29ed57-5c9a-4228-a420-e161959b496d",
   "metadata": {},
   "outputs": [
    {
     "data": {
      "text/html": [
       "<div>\n",
       "<style scoped>\n",
       "    .dataframe tbody tr th:only-of-type {\n",
       "        vertical-align: middle;\n",
       "    }\n",
       "\n",
       "    .dataframe tbody tr th {\n",
       "        vertical-align: top;\n",
       "    }\n",
       "\n",
       "    .dataframe thead th {\n",
       "        text-align: right;\n",
       "    }\n",
       "</style>\n",
       "<table border=\"1\" class=\"dataframe\">\n",
       "  <thead>\n",
       "    <tr style=\"text-align: right;\">\n",
       "      <th></th>\n",
       "      <th>Employee_ID</th>\n",
       "      <th>Name</th>\n",
       "      <th>Age</th>\n",
       "      <th>Department</th>\n",
       "      <th>Salary</th>\n",
       "      <th>Experience</th>\n",
       "      <th>Location</th>\n",
       "    </tr>\n",
       "  </thead>\n",
       "  <tbody>\n",
       "    <tr>\n",
       "      <th>0</th>\n",
       "      <td>101</td>\n",
       "      <td>John Doe</td>\n",
       "      <td>35.0</td>\n",
       "      <td>Finance</td>\n",
       "      <td>75000.0</td>\n",
       "      <td>10.0</td>\n",
       "      <td>New York</td>\n",
       "    </tr>\n",
       "    <tr>\n",
       "      <th>1</th>\n",
       "      <td>102</td>\n",
       "      <td>Jane Smith</td>\n",
       "      <td>29.0</td>\n",
       "      <td>IT</td>\n",
       "      <td>82000.0</td>\n",
       "      <td>7.0</td>\n",
       "      <td>San Francisco</td>\n",
       "    </tr>\n",
       "    <tr>\n",
       "      <th>2</th>\n",
       "      <td>103</td>\n",
       "      <td>Samuel Johnson</td>\n",
       "      <td>NaN</td>\n",
       "      <td>HR</td>\n",
       "      <td>58000.0</td>\n",
       "      <td>5.0</td>\n",
       "      <td>Chicago</td>\n",
       "    </tr>\n",
       "    <tr>\n",
       "      <th>3</th>\n",
       "      <td>104</td>\n",
       "      <td>Emily Davis</td>\n",
       "      <td>42.0</td>\n",
       "      <td>Marketing</td>\n",
       "      <td>91000.0</td>\n",
       "      <td>15.0</td>\n",
       "      <td>Los Angeles</td>\n",
       "    </tr>\n",
       "    <tr>\n",
       "      <th>4</th>\n",
       "      <td>105</td>\n",
       "      <td>Michael Brown</td>\n",
       "      <td>50.0</td>\n",
       "      <td>Operations</td>\n",
       "      <td>NaN</td>\n",
       "      <td>20.0</td>\n",
       "      <td>New York</td>\n",
       "    </tr>\n",
       "  </tbody>\n",
       "</table>\n",
       "</div>"
      ],
      "text/plain": [
       "   Employee_ID            Name   Age  Department   Salary  Experience  \\\n",
       "0          101        John Doe  35.0     Finance  75000.0        10.0   \n",
       "1          102      Jane Smith  29.0          IT  82000.0         7.0   \n",
       "2          103  Samuel Johnson   NaN          HR  58000.0         5.0   \n",
       "3          104     Emily Davis  42.0   Marketing  91000.0        15.0   \n",
       "4          105   Michael Brown  50.0  Operations      NaN        20.0   \n",
       "\n",
       "        Location  \n",
       "0       New York  \n",
       "1  San Francisco  \n",
       "2        Chicago  \n",
       "3    Los Angeles  \n",
       "4       New York  "
      ]
     },
     "execution_count": 12,
     "metadata": {},
     "output_type": "execute_result"
    }
   ],
   "source": [
    "# FIrst 5 rows\n",
    "data.head()"
   ]
  },
  {
   "cell_type": "code",
   "execution_count": 69,
   "id": "aed583a2-00fc-4d99-9017-4151f0490805",
   "metadata": {},
   "outputs": [
    {
     "name": "stdout",
     "output_type": "stream",
     "text": [
      "<class 'pandas.core.frame.DataFrame'>\n",
      "RangeIndex: 15 entries, 0 to 14\n",
      "Data columns (total 7 columns):\n",
      " #   Column       Non-Null Count  Dtype  \n",
      "---  ------       --------------  -----  \n",
      " 0   Employee_ID  15 non-null     int64  \n",
      " 1   Name         14 non-null     object \n",
      " 2   Age          12 non-null     float64\n",
      " 3   Department   14 non-null     object \n",
      " 4   Salary       13 non-null     float64\n",
      " 5   Experience   14 non-null     float64\n",
      " 6   Location     14 non-null     object \n",
      "dtypes: float64(3), int64(1), object(3)\n",
      "memory usage: 972.0+ bytes\n"
     ]
    }
   ],
   "source": [
    "data.info()"
   ]
  },
  {
   "cell_type": "code",
   "execution_count": null,
   "id": "1ff1e8a9-3c27-41c6-9241-e2c98a82bcc8",
   "metadata": {},
   "outputs": [],
   "source": [
    "data[\"Age\"].iloc[0] = \"Twenty\""
   ]
  },
  {
   "cell_type": "code",
   "execution_count": 53,
   "id": "3c331cd5-e726-475b-8f18-6a6ad871fde4",
   "metadata": {},
   "outputs": [
    {
     "data": {
      "text/plain": [
       "array(['Twenty', 29.0, nan, 42.0, 50.0, 27.0, 39.0, 45.0, 30.0, 36.0,\n",
       "       33.0, 28.0, 41.0], dtype=object)"
      ]
     },
     "execution_count": 53,
     "metadata": {},
     "output_type": "execute_result"
    }
   ],
   "source": [
    "data[\"Age\"].unique()"
   ]
  },
  {
   "cell_type": "code",
   "execution_count": 65,
   "id": "6cbfd9d0-b3d3-4409-bdff-332a5285fbe2",
   "metadata": {},
   "outputs": [],
   "source": [
    "data[\"Age\"] = data[\"Age\"].replace(\"Twenty\", 20)"
   ]
  },
  {
   "cell_type": "code",
   "execution_count": 67,
   "id": "ade72603-f775-4697-820e-3104e05f60ce",
   "metadata": {},
   "outputs": [
    {
     "data": {
      "text/html": [
       "<div>\n",
       "<style scoped>\n",
       "    .dataframe tbody tr th:only-of-type {\n",
       "        vertical-align: middle;\n",
       "    }\n",
       "\n",
       "    .dataframe tbody tr th {\n",
       "        vertical-align: top;\n",
       "    }\n",
       "\n",
       "    .dataframe thead th {\n",
       "        text-align: right;\n",
       "    }\n",
       "</style>\n",
       "<table border=\"1\" class=\"dataframe\">\n",
       "  <thead>\n",
       "    <tr style=\"text-align: right;\">\n",
       "      <th></th>\n",
       "      <th>Employee_ID</th>\n",
       "      <th>Name</th>\n",
       "      <th>Age</th>\n",
       "      <th>Department</th>\n",
       "      <th>Salary</th>\n",
       "      <th>Experience</th>\n",
       "      <th>Location</th>\n",
       "    </tr>\n",
       "  </thead>\n",
       "  <tbody>\n",
       "    <tr>\n",
       "      <th>0</th>\n",
       "      <td>101</td>\n",
       "      <td>John Doe</td>\n",
       "      <td>20.0</td>\n",
       "      <td>Finance</td>\n",
       "      <td>75000.0</td>\n",
       "      <td>10.0</td>\n",
       "      <td>New York</td>\n",
       "    </tr>\n",
       "    <tr>\n",
       "      <th>1</th>\n",
       "      <td>102</td>\n",
       "      <td>Jane Smith</td>\n",
       "      <td>29.0</td>\n",
       "      <td>IT</td>\n",
       "      <td>82000.0</td>\n",
       "      <td>7.0</td>\n",
       "      <td>San Francisco</td>\n",
       "    </tr>\n",
       "    <tr>\n",
       "      <th>2</th>\n",
       "      <td>103</td>\n",
       "      <td>Samuel Johnson</td>\n",
       "      <td>NaN</td>\n",
       "      <td>HR</td>\n",
       "      <td>58000.0</td>\n",
       "      <td>5.0</td>\n",
       "      <td>Chicago</td>\n",
       "    </tr>\n",
       "    <tr>\n",
       "      <th>3</th>\n",
       "      <td>104</td>\n",
       "      <td>Emily Davis</td>\n",
       "      <td>42.0</td>\n",
       "      <td>Marketing</td>\n",
       "      <td>91000.0</td>\n",
       "      <td>15.0</td>\n",
       "      <td>Los Angeles</td>\n",
       "    </tr>\n",
       "    <tr>\n",
       "      <th>4</th>\n",
       "      <td>105</td>\n",
       "      <td>Michael Brown</td>\n",
       "      <td>50.0</td>\n",
       "      <td>Operations</td>\n",
       "      <td>NaN</td>\n",
       "      <td>20.0</td>\n",
       "      <td>New York</td>\n",
       "    </tr>\n",
       "  </tbody>\n",
       "</table>\n",
       "</div>"
      ],
      "text/plain": [
       "   Employee_ID            Name   Age  Department   Salary  Experience  \\\n",
       "0          101        John Doe  20.0     Finance  75000.0        10.0   \n",
       "1          102      Jane Smith  29.0          IT  82000.0         7.0   \n",
       "2          103  Samuel Johnson   NaN          HR  58000.0         5.0   \n",
       "3          104     Emily Davis  42.0   Marketing  91000.0        15.0   \n",
       "4          105   Michael Brown  50.0  Operations      NaN        20.0   \n",
       "\n",
       "        Location  \n",
       "0       New York  \n",
       "1  San Francisco  \n",
       "2        Chicago  \n",
       "3    Los Angeles  \n",
       "4       New York  "
      ]
     },
     "execution_count": 67,
     "metadata": {},
     "output_type": "execute_result"
    }
   ],
   "source": [
    "data.head()"
   ]
  },
  {
   "cell_type": "code",
   "execution_count": 26,
   "id": "3d7c6f36-dfcc-4632-802c-053832f60a55",
   "metadata": {},
   "outputs": [
    {
     "name": "stdout",
     "output_type": "stream",
     "text": [
      "<class 'pandas.core.frame.DataFrame'>\n",
      "RangeIndex: 15 entries, 0 to 14\n",
      "Data columns (total 7 columns):\n",
      " #   Column       Non-Null Count  Dtype  \n",
      "---  ------       --------------  -----  \n",
      " 0   Employee_ID  15 non-null     object \n",
      " 1   Name         14 non-null     object \n",
      " 2   Age          12 non-null     float64\n",
      " 3   Department   14 non-null     object \n",
      " 4   Salary       13 non-null     float64\n",
      " 5   Experience   14 non-null     float64\n",
      " 6   Location     14 non-null     object \n",
      "dtypes: float64(3), object(4)\n",
      "memory usage: 972.0+ bytes\n"
     ]
    }
   ],
   "source": [
    "data.info()"
   ]
  },
  {
   "cell_type": "code",
   "execution_count": 30,
   "id": "d3410055-5023-4834-a1d1-795054bac135",
   "metadata": {},
   "outputs": [
    {
     "data": {
      "text/plain": [
       "array([101, 102, 103, 104, 105, 106, 107, 108, 109, 110, 111, 112, 113,\n",
       "       114, 115], dtype=object)"
      ]
     },
     "execution_count": 30,
     "metadata": {},
     "output_type": "execute_result"
    }
   ],
   "source": [
    "data[\"Employee_ID\"].unique()"
   ]
  },
  {
   "cell_type": "code",
   "execution_count": 32,
   "id": "c1560fe0-b208-4bed-8511-9ecf59433d9b",
   "metadata": {},
   "outputs": [],
   "source": [
    "# How to change the data type of a column\n",
    "\n",
    "data[\"Employee_ID\"] = data[\"Employee_ID\"].astype(\"int64\")"
   ]
  },
  {
   "cell_type": "code",
   "execution_count": null,
   "id": "b4b26755-0990-40c8-a27c-263ae6fc2166",
   "metadata": {},
   "outputs": [],
   "source": []
  },
  {
   "cell_type": "code",
   "execution_count": 34,
   "id": "13a6898a-8385-44ee-8c43-fc55f6ecf1d8",
   "metadata": {},
   "outputs": [
    {
     "name": "stdout",
     "output_type": "stream",
     "text": [
      "<class 'pandas.core.frame.DataFrame'>\n",
      "RangeIndex: 15 entries, 0 to 14\n",
      "Data columns (total 7 columns):\n",
      " #   Column       Non-Null Count  Dtype  \n",
      "---  ------       --------------  -----  \n",
      " 0   Employee_ID  15 non-null     int64  \n",
      " 1   Name         14 non-null     object \n",
      " 2   Age          12 non-null     float64\n",
      " 3   Department   14 non-null     object \n",
      " 4   Salary       13 non-null     float64\n",
      " 5   Experience   14 non-null     float64\n",
      " 6   Location     14 non-null     object \n",
      "dtypes: float64(3), int64(1), object(3)\n",
      "memory usage: 972.0+ bytes\n"
     ]
    }
   ],
   "source": [
    "data.info()"
   ]
  },
  {
   "cell_type": "code",
   "execution_count": 56,
   "id": "6a40153e-6e43-4775-8e0e-187e018bce8d",
   "metadata": {},
   "outputs": [
    {
     "data": {
      "text/plain": [
       "array([101, 102, 103, 104, 105, 106, 107, 108, 109, 110, 111, 112, 113,\n",
       "       114, 115], dtype=object)"
      ]
     },
     "execution_count": 56,
     "metadata": {},
     "output_type": "execute_result"
    }
   ],
   "source": [
    "data.Employee_ID.unique()"
   ]
  },
  {
   "cell_type": "code",
   "execution_count": 42,
   "id": "d588de7e-0b4c-4c05-81b8-33d0b037a311",
   "metadata": {},
   "outputs": [
    {
     "name": "stdout",
     "output_type": "stream",
     "text": [
      "<class 'pandas.core.frame.DataFrame'>\n",
      "RangeIndex: 15 entries, 0 to 14\n",
      "Data columns (total 7 columns):\n",
      " #   Column       Non-Null Count  Dtype  \n",
      "---  ------       --------------  -----  \n",
      " 0   Employee_ID  15 non-null     object \n",
      " 1   Name         14 non-null     object \n",
      " 2   Age          12 non-null     float64\n",
      " 3   Department   14 non-null     object \n",
      " 4   Salary       13 non-null     float64\n",
      " 5   Experience   14 non-null     float64\n",
      " 6   Location     14 non-null     object \n",
      "dtypes: float64(3), object(4)\n",
      "memory usage: 972.0+ bytes\n"
     ]
    }
   ],
   "source": [
    "# Shows columns, data types, and missing values\n",
    "data.info()"
   ]
  },
  {
   "cell_type": "code",
   "execution_count": 4,
   "id": "f139d9c9-f65c-4316-97bf-a5dbb6d70a8e",
   "metadata": {},
   "outputs": [
    {
     "ename": "NameError",
     "evalue": "name 'data' is not defined",
     "output_type": "error",
     "traceback": [
      "\u001b[1;31m---------------------------------------------------------------------------\u001b[0m",
      "\u001b[1;31mNameError\u001b[0m                                 Traceback (most recent call last)",
      "Cell \u001b[1;32mIn[4], line 2\u001b[0m\n\u001b[0;32m      1\u001b[0m \u001b[38;5;66;03m# Quick summary of the data\u001b[39;00m\n\u001b[1;32m----> 2\u001b[0m \u001b[43mdata\u001b[49m\u001b[38;5;241m.\u001b[39mdescribe(include\u001b[38;5;241m=\u001b[39m\u001b[38;5;124m\"\u001b[39m\u001b[38;5;124mall\u001b[39m\u001b[38;5;124m\"\u001b[39m)\n",
      "\u001b[1;31mNameError\u001b[0m: name 'data' is not defined"
     ]
    }
   ],
   "source": [
    "# Quick summary of the data\n",
    "data.describe(include=\"all\")"
   ]
  },
  {
   "cell_type": "code",
   "execution_count": 72,
   "id": "b37cfe42-66c1-4138-845e-0446aabe0ae8",
   "metadata": {},
   "outputs": [
    {
     "data": {
      "text/plain": [
       "(15, 7)"
      ]
     },
     "execution_count": 72,
     "metadata": {},
     "output_type": "execute_result"
    }
   ],
   "source": [
    "data.shape"
   ]
  },
  {
   "cell_type": "markdown",
   "id": "faa355a6-5c8b-4867-8ddc-9ac485e5a95e",
   "metadata": {},
   "source": [
    "# Check for missing values\n"
   ]
  },
  {
   "cell_type": "code",
   "execution_count": 135,
   "id": "d1b3e2a4-59fe-4b32-85cb-3c2f0ea48548",
   "metadata": {},
   "outputs": [
    {
     "data": {
      "text/plain": [
       "Employee_ID    0\n",
       "Name           1\n",
       "Age            3\n",
       "Department     1\n",
       "Salary         2\n",
       "Experience     1\n",
       "Location       1\n",
       "dtype: int64"
      ]
     },
     "execution_count": 135,
     "metadata": {},
     "output_type": "execute_result"
    }
   ],
   "source": [
    "data.isnull().sum()"
   ]
  },
  {
   "cell_type": "code",
   "execution_count": 78,
   "id": "518d60ea-9080-41fb-98bc-90428fee8aaa",
   "metadata": {},
   "outputs": [],
   "source": [
    "# Filling missing values\n",
    "data[\"Age\"] = data[\"Age\"].fillna(data[\"Age\"].mean())\n",
    "\n",
    "data[\"Salary\"] = data[\"Salary\"].fillna(data[\"Salary\"].median())\n",
    "\n"
   ]
  },
  {
   "cell_type": "code",
   "execution_count": 80,
   "id": "b2d2f9f1-82d1-48ce-8c1c-ae76a18cf453",
   "metadata": {},
   "outputs": [
    {
     "data": {
      "text/plain": [
       "Employee_ID    0\n",
       "Name           1\n",
       "Age            0\n",
       "Department     1\n",
       "Salary         0\n",
       "Experience     1\n",
       "Location       1\n",
       "dtype: int64"
      ]
     },
     "execution_count": 80,
     "metadata": {},
     "output_type": "execute_result"
    }
   ],
   "source": [
    "data.isnull().sum()"
   ]
  },
  {
   "cell_type": "code",
   "execution_count": 82,
   "id": "b2c36e90-555a-4feb-af14-2c03c8e0bf96",
   "metadata": {},
   "outputs": [],
   "source": [
    "# drop the rest of the data\n",
    "data = data.dropna(axis=0)"
   ]
  },
  {
   "cell_type": "code",
   "execution_count": 84,
   "id": "321af03a-5b69-4f14-98f0-76c90bce97f1",
   "metadata": {},
   "outputs": [
    {
     "data": {
      "text/plain": [
       "Employee_ID    0\n",
       "Name           0\n",
       "Age            0\n",
       "Department     0\n",
       "Salary         0\n",
       "Experience     0\n",
       "Location       0\n",
       "dtype: int64"
      ]
     },
     "execution_count": 84,
     "metadata": {},
     "output_type": "execute_result"
    }
   ],
   "source": [
    "data.isnull().sum()"
   ]
  },
  {
   "cell_type": "code",
   "execution_count": 88,
   "id": "8dc5129a-f9e3-464e-9a54-db4eac4c22f3",
   "metadata": {},
   "outputs": [
    {
     "data": {
      "text/plain": [
       "0"
      ]
     },
     "execution_count": 88,
     "metadata": {},
     "output_type": "execute_result"
    }
   ],
   "source": [
    "data.duplicated().sum()"
   ]
  },
  {
   "cell_type": "markdown",
   "id": "19b73f43-6c30-4e4a-8cb5-d21943de2e1c",
   "metadata": {},
   "source": [
    "# Simple data analysis"
   ]
  },
  {
   "cell_type": "code",
   "execution_count": 156,
   "id": "c325a951-bf66-4ba2-8692-c4bb4ee5d855",
   "metadata": {},
   "outputs": [
    {
     "name": "stdout",
     "output_type": "stream",
     "text": [
      "Department\n",
      "Finance       75000.000000\n",
      "HR            60000.000000\n",
      "IT            82000.000000\n",
      "Marketing     87000.000000\n",
      "Operations    73333.333333\n",
      "Name: Salary, dtype: float64\n"
     ]
    }
   ],
   "source": [
    "# Group by Department and find the average salary\n",
    "dept_salary = data.groupby(\"Department\")[\"Salary\"].mean()\n",
    "print(dept_salary)"
   ]
  },
  {
   "cell_type": "code",
   "execution_count": 92,
   "id": "a59122c8-5bf1-423c-9fba-12ddcd9b83de",
   "metadata": {},
   "outputs": [
    {
     "data": {
      "text/html": [
       "<div>\n",
       "<style scoped>\n",
       "    .dataframe tbody tr th:only-of-type {\n",
       "        vertical-align: middle;\n",
       "    }\n",
       "\n",
       "    .dataframe tbody tr th {\n",
       "        vertical-align: top;\n",
       "    }\n",
       "\n",
       "    .dataframe thead th {\n",
       "        text-align: right;\n",
       "    }\n",
       "</style>\n",
       "<table border=\"1\" class=\"dataframe\">\n",
       "  <thead>\n",
       "    <tr style=\"text-align: right;\">\n",
       "      <th></th>\n",
       "      <th>Employee_ID</th>\n",
       "      <th>Name</th>\n",
       "      <th>Age</th>\n",
       "      <th>Department</th>\n",
       "      <th>Salary</th>\n",
       "      <th>Experience</th>\n",
       "      <th>Location</th>\n",
       "    </tr>\n",
       "  </thead>\n",
       "  <tbody>\n",
       "    <tr>\n",
       "      <th>0</th>\n",
       "      <td>101</td>\n",
       "      <td>John Doe</td>\n",
       "      <td>35.00</td>\n",
       "      <td>Finance</td>\n",
       "      <td>75000.0</td>\n",
       "      <td>10.0</td>\n",
       "      <td>New York</td>\n",
       "    </tr>\n",
       "    <tr>\n",
       "      <th>1</th>\n",
       "      <td>102</td>\n",
       "      <td>Jane Smith</td>\n",
       "      <td>29.00</td>\n",
       "      <td>IT</td>\n",
       "      <td>82000.0</td>\n",
       "      <td>7.0</td>\n",
       "      <td>San Francisco</td>\n",
       "    </tr>\n",
       "    <tr>\n",
       "      <th>2</th>\n",
       "      <td>103</td>\n",
       "      <td>Samuel Johnson</td>\n",
       "      <td>36.25</td>\n",
       "      <td>HR</td>\n",
       "      <td>58000.0</td>\n",
       "      <td>5.0</td>\n",
       "      <td>Chicago</td>\n",
       "    </tr>\n",
       "    <tr>\n",
       "      <th>3</th>\n",
       "      <td>104</td>\n",
       "      <td>Emily Davis</td>\n",
       "      <td>42.00</td>\n",
       "      <td>Marketing</td>\n",
       "      <td>91000.0</td>\n",
       "      <td>15.0</td>\n",
       "      <td>Los Angeles</td>\n",
       "    </tr>\n",
       "    <tr>\n",
       "      <th>4</th>\n",
       "      <td>105</td>\n",
       "      <td>Michael Brown</td>\n",
       "      <td>50.00</td>\n",
       "      <td>Operations</td>\n",
       "      <td>75000.0</td>\n",
       "      <td>20.0</td>\n",
       "      <td>New York</td>\n",
       "    </tr>\n",
       "    <tr>\n",
       "      <th>7</th>\n",
       "      <td>108</td>\n",
       "      <td>Sarah Lee</td>\n",
       "      <td>36.25</td>\n",
       "      <td>HR</td>\n",
       "      <td>62000.0</td>\n",
       "      <td>6.0</td>\n",
       "      <td>San Francisco</td>\n",
       "    </tr>\n",
       "    <tr>\n",
       "      <th>8</th>\n",
       "      <td>109</td>\n",
       "      <td>William Taylor</td>\n",
       "      <td>45.00</td>\n",
       "      <td>Marketing</td>\n",
       "      <td>95000.0</td>\n",
       "      <td>18.0</td>\n",
       "      <td>Los Angeles</td>\n",
       "    </tr>\n",
       "    <tr>\n",
       "      <th>9</th>\n",
       "      <td>110</td>\n",
       "      <td>Olivia Anderson</td>\n",
       "      <td>30.00</td>\n",
       "      <td>Operations</td>\n",
       "      <td>72000.0</td>\n",
       "      <td>8.0</td>\n",
       "      <td>Chicago</td>\n",
       "    </tr>\n",
       "    <tr>\n",
       "      <th>12</th>\n",
       "      <td>113</td>\n",
       "      <td>Sophia Hernandez</td>\n",
       "      <td>28.00</td>\n",
       "      <td>HR</td>\n",
       "      <td>60000.0</td>\n",
       "      <td>5.0</td>\n",
       "      <td>Chicago</td>\n",
       "    </tr>\n",
       "    <tr>\n",
       "      <th>13</th>\n",
       "      <td>114</td>\n",
       "      <td>James Scott</td>\n",
       "      <td>41.00</td>\n",
       "      <td>Marketing</td>\n",
       "      <td>75000.0</td>\n",
       "      <td>14.0</td>\n",
       "      <td>Los Angeles</td>\n",
       "    </tr>\n",
       "    <tr>\n",
       "      <th>14</th>\n",
       "      <td>115</td>\n",
       "      <td>Mia King</td>\n",
       "      <td>36.25</td>\n",
       "      <td>Operations</td>\n",
       "      <td>73000.0</td>\n",
       "      <td>7.0</td>\n",
       "      <td>New York</td>\n",
       "    </tr>\n",
       "  </tbody>\n",
       "</table>\n",
       "</div>"
      ],
      "text/plain": [
       "    Employee_ID              Name    Age  Department   Salary  Experience  \\\n",
       "0           101          John Doe  35.00     Finance  75000.0        10.0   \n",
       "1           102        Jane Smith  29.00          IT  82000.0         7.0   \n",
       "2           103    Samuel Johnson  36.25          HR  58000.0         5.0   \n",
       "3           104       Emily Davis  42.00   Marketing  91000.0        15.0   \n",
       "4           105     Michael Brown  50.00  Operations  75000.0        20.0   \n",
       "7           108         Sarah Lee  36.25          HR  62000.0         6.0   \n",
       "8           109    William Taylor  45.00   Marketing  95000.0        18.0   \n",
       "9           110   Olivia Anderson  30.00  Operations  72000.0         8.0   \n",
       "12          113  Sophia Hernandez  28.00          HR  60000.0         5.0   \n",
       "13          114       James Scott  41.00   Marketing  75000.0        14.0   \n",
       "14          115          Mia King  36.25  Operations  73000.0         7.0   \n",
       "\n",
       "         Location  \n",
       "0        New York  \n",
       "1   San Francisco  \n",
       "2         Chicago  \n",
       "3     Los Angeles  \n",
       "4        New York  \n",
       "7   San Francisco  \n",
       "8     Los Angeles  \n",
       "9         Chicago  \n",
       "12        Chicago  \n",
       "13    Los Angeles  \n",
       "14       New York  "
      ]
     },
     "execution_count": 92,
     "metadata": {},
     "output_type": "execute_result"
    }
   ],
   "source": [
    "data"
   ]
  },
  {
   "cell_type": "code",
   "execution_count": 158,
   "id": "8d2091d1-e021-4c50-8c86-f39ae07f467a",
   "metadata": {},
   "outputs": [
    {
     "name": "stdout",
     "output_type": "stream",
     "text": [
      "Department\n",
      "HR            3\n",
      "Marketing     3\n",
      "Operations    3\n",
      "Finance       1\n",
      "IT            1\n",
      "Name: count, dtype: int64\n"
     ]
    }
   ],
   "source": [
    "# Count the number of employees in each department\n",
    "dept_count = data[\"Department\"].value_counts()\n",
    "print(dept_count)"
   ]
  },
  {
   "cell_type": "code",
   "execution_count": 98,
   "id": "9b40c735-fcc7-45d3-9982-1116b3afc7a0",
   "metadata": {},
   "outputs": [
    {
     "name": "stdout",
     "output_type": "stream",
     "text": [
      "Employee_ID               109\n",
      "Name           William Taylor\n",
      "Age                      45.0\n",
      "Department          Marketing\n",
      "Salary                95000.0\n",
      "Experience               18.0\n",
      "Location          Los Angeles\n",
      "Name: 8, dtype: object\n"
     ]
    }
   ],
   "source": [
    "# Find the highest-paid employee\n",
    "highest_paid = data.loc[data[\"Salary\"].idxmax()]\n",
    "print(highest_paid)"
   ]
  },
  {
   "cell_type": "markdown",
   "id": "5b8bfce1-044b-46ca-b513-85e1aa7150a3",
   "metadata": {},
   "source": [
    "# Visualizing trends in data"
   ]
  },
  {
   "cell_type": "code",
   "execution_count": 102,
   "id": "37402b9d-21bd-40a8-b3c4-ac515fe10543",
   "metadata": {},
   "outputs": [],
   "source": [
    "import matplotlib.pyplot as plt\n",
    "import seaborn as sns"
   ]
  },
  {
   "cell_type": "code",
   "execution_count": 116,
   "id": "3b793f23-dc5a-4fa4-a08c-3327875ca671",
   "metadata": {},
   "outputs": [
    {
     "name": "stderr",
     "output_type": "stream",
     "text": [
      "C:\\Users\\NCC\\AppData\\Local\\Temp\\ipykernel_4504\\348541178.py:3: FutureWarning: \n",
      "\n",
      "Passing `palette` without assigning `hue` is deprecated and will be removed in v0.14.0. Assign the `x` variable to `hue` and set `legend=False` for the same effect.\n",
      "\n",
      "  sns.barplot(x=data[\"Department\"], y=data[\"Salary\"], palette=\"viridis\")\n"
     ]
    },
    {
     "data": {
      "image/png": "[encoded data removed]",
      "text/plain": [
       "<Figure size 800x500 with 1 Axes>"
      ]
     },
     "metadata": {},
     "output_type": "display_data"
    }
   ],
   "source": [
    "# With Seaborn\n",
    "plt.figure(figsize=(8, 5))\n",
    "sns.barplot(x=data[\"Department\"], y=data[\"Salary\"], palette=\"viridis\")\n",
    "plt.xticks(rotation=45)\n",
    "plt.xlabel(\"Department\")\n",
    "plt.ylabel(\"Salary (USD)\")\n",
    "plt.title(\"Salary by Department\")\n",
    "plt.show()"
   ]
  },
  {
   "cell_type": "code",
   "execution_count": 118,
   "id": "b7afb765-9f95-482d-a408-d64014c8f1fe",
   "metadata": {},
   "outputs": [
    {
     "data": {
      "image/png": "[encoded data removed]",
      "text/plain": [
       "<Figure size 700x500 with 1 Axes>"
      ]
     },
     "metadata": {},
     "output_type": "display_data"
    }
   ],
   "source": [
    "# With matplotlib\n",
    "plt.figure(figsize=(7, 5))\n",
    "plt.bar(data[\"Department\"], data[\"Salary\"], color='cyan')\n",
    "plt.xticks(rotation=45)\n",
    "plt.xlabel(\"Department\")\n",
    "plt.ylabel(\"Salary (USD)\")\n",
    "plt.title(\"Salary by Department\")\n",
    "plt.show()"
   ]
  },
  {
   "cell_type": "code",
   "execution_count": 178,
   "id": "98eac21d-b385-43b1-8f93-5606667fa8e3",
   "metadata": {},
   "outputs": [
    {
     "data": {
      "image/png": "[encoded data removed]",
      "text/plain": [
       "<Figure size 700x500 with 1 Axes>"
      ]
     },
     "metadata": {},
     "output_type": "display_data"
    }
   ],
   "source": [
    "plt.figure(figsize=(7, 5))\n",
    "sns.scatterplot(x=data[\"Experience\"], y=data[\"Salary\"], alpha=0.7)\n",
    "plt.xlabel(\"Years of Experience\")\n",
    "plt.ylabel(\"Salary\")\n",
    "plt.title(\"Relationship Between Experience and Salary\")\n",
    "plt.show()"
   ]
  },
  {
   "cell_type": "markdown",
   "id": "435a10cb-fff0-4f80-bad2-f253b57aec25",
   "metadata": {},
   "source": [
    "# Export the cleaned data set"
   ]
  },
  {
   "cell_type": "code",
   "execution_count": 181,
   "id": "56e573ee-6936-4a78-8c2a-a7ee676ca370",
   "metadata": {},
   "outputs": [
    {
     "name": "stdout",
     "output_type": "stream",
     "text": [
      "Clean dataset saved successfully!\n"
     ]
    }
   ],
   "source": [
    "data.to_csv(\"cleaned_employees_data.csv\", index=False)\n",
    "print(\"Clean dataset saved successfully!\")"
   ]
  },
  {
   "cell_type": "code",
   "execution_count": null,
   "id": "b71088be-576b-49af-b6c0-f43d54a63435",
   "metadata": {},
   "outputs": [],
   "source": [
    "765\n"
   ]
  }
 ],
 "metadata": {
  "kernelspec": {
   "display_name": "Python 3 (ipykernel)",
   "language": "python",
   "name": "python3"
  },
  "language_info": {
   "codemirror_mode": {
    "name": "ipython",
    "version": 3
   },
   "file_extension": ".py",
   "mimetype": "text/x-python",
   "name": "python",
   "nbconvert_exporter": "python",
   "pygments_lexer": "ipython3",
   "version": "3.12.4"
  }
 },
 "nbformat": 4,
 "nbformat_minor": 5
}
