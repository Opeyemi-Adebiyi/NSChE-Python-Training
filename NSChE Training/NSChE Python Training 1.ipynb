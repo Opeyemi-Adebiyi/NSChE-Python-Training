{
 "cells": [
  {
   "cell_type": "code",
   "execution_count": 1,
   "id": "9989aba9-ef03-4686-a7e0-563b7ab37c85",
   "metadata": {},
   "outputs": [
    {
     "name": "stdin",
     "output_type": "stream",
     "text": [
      "Enter temp in Celcius:  0\n"
     ]
    },
    {
     "name": "stdout",
     "output_type": "stream",
     "text": [
      "The equiv. temperature in Fahrenheit is 32.0\n"
     ]
    }
   ],
   "source": [
    "temp_C = float(input(\"Enter temp in Celcius: \"))\n",
    "temp_F = (9/5 * temp_C) + 32\n",
    "print(\"The equiv. temperature in Fahrenheit is\", temp_F)"
   ]
  },
  {
   "cell_type": "code",
   "execution_count": 95,
   "id": "aba323f4-9c0b-4cc0-bd96-fe23ae8bda54",
   "metadata": {},
   "outputs": [],
   "source": [
    "my_list = [10, 'ade', True, 'banana', 65, 7.3]"
   ]
  },
  {
   "cell_type": "code",
   "execution_count": 97,
   "id": "ab8b6835-ad16-481e-9939-546aa61459e6",
   "metadata": {},
   "outputs": [
    {
     "name": "stdout",
     "output_type": "stream",
     "text": [
      "[10, 'bola', True, 'banana', 65, 7.3]\n"
     ]
    }
   ],
   "source": [
    "my_list[1] = 'bola'\n",
    "print(my_list)"
   ]
  },
  {
   "cell_type": "code",
   "execution_count": 11,
   "id": "b18bb2a3-76f7-4188-bd6c-91f53a0be3e8",
   "metadata": {},
   "outputs": [
    {
     "name": "stdout",
     "output_type": "stream",
     "text": [
      "[10, 'ade', True, 'banana', 65, 7.3]\n"
     ]
    }
   ],
   "source": [
    "print(my_list)"
   ]
  },
  {
   "cell_type": "code",
   "execution_count": 17,
   "id": "2c7446ce-4213-4de9-9541-3b81cccce5dd",
   "metadata": {},
   "outputs": [
    {
     "data": {
      "text/plain": [
       "7.3"
      ]
     },
     "execution_count": 17,
     "metadata": {},
     "output_type": "execute_result"
    }
   ],
   "source": [
    "my_list[-1]"
   ]
  },
  {
   "cell_type": "code",
   "execution_count": 35,
   "id": "d923c146-0a6c-4309-8e63-312a0883baa9",
   "metadata": {},
   "outputs": [
    {
     "data": {
      "text/plain": [
       "[10, True, 65]"
      ]
     },
     "execution_count": 35,
     "metadata": {},
     "output_type": "execute_result"
    }
   ],
   "source": [
    "my_list[0::2]"
   ]
  },
  {
   "cell_type": "code",
   "execution_count": 39,
   "id": "47e3d764-b7d2-4eb3-8584-ab247e5c3be2",
   "metadata": {},
   "outputs": [],
   "source": [
    "# List methods\n",
    "my_list.append(4)"
   ]
  },
  {
   "cell_type": "code",
   "execution_count": 41,
   "id": "4273ae4a-c625-4d6f-84ee-ba356528e005",
   "metadata": {},
   "outputs": [
    {
     "data": {
      "text/plain": [
       "[10, 'ade', True, 'banana', 65, 7.3, 4]"
      ]
     },
     "execution_count": 41,
     "metadata": {},
     "output_type": "execute_result"
    }
   ],
   "source": [
    "my_list"
   ]
  },
  {
   "cell_type": "code",
   "execution_count": 43,
   "id": "96465165-74ab-4e62-a0c7-75e7b97f8164",
   "metadata": {},
   "outputs": [
    {
     "name": "stdout",
     "output_type": "stream",
     "text": [
      "[10, 'ade', True, 'banana', 65, 7.3, 4, 'orange', 'apple']\n"
     ]
    }
   ],
   "source": [
    "list_2 = ['orange', 'apple']\n",
    "my_list.extend(list_2)\n",
    "print(my_list)"
   ]
  },
  {
   "cell_type": "code",
   "execution_count": 49,
   "id": "5f9ccb46-7c60-4e0e-95fa-5e920656fa2e",
   "metadata": {},
   "outputs": [
    {
     "name": "stdout",
     "output_type": "stream",
     "text": [
      "[False, 10, 'ade', True, 'banana', 65, 7.3, 4, 'orange', 'apple']\n"
     ]
    }
   ],
   "source": [
    "my_list.insert(0, False)\n",
    "print(my_list)"
   ]
  },
  {
   "cell_type": "code",
   "execution_count": 51,
   "id": "2843c94e-2f52-4118-b3ba-3f2288867bdc",
   "metadata": {},
   "outputs": [],
   "source": [
    "list3 = [2, 4, 6, ['age', 'state'], 5.6]"
   ]
  },
  {
   "cell_type": "code",
   "execution_count": 65,
   "id": "b66a68e4-fcb6-473f-86f6-8a91e90401aa",
   "metadata": {},
   "outputs": [
    {
     "data": {
      "text/plain": [
       "'state'"
      ]
     },
     "execution_count": 65,
     "metadata": {},
     "output_type": "execute_result"
    }
   ],
   "source": [
    "list3[3][1]"
   ]
  },
  {
   "cell_type": "code",
   "execution_count": 75,
   "id": "13ebbd34-2e39-48da-ac95-096ab01fa5f1",
   "metadata": {},
   "outputs": [],
   "source": [
    "# Dictionary\n",
    "my_dict = {'name': ['Abdul', 'Ummi', 'Faisal'], 'age':[32,45,69],  'country':['Nigeria', 'Rwanda', 'Congo']}\n"
   ]
  },
  {
   "cell_type": "code",
   "execution_count": 131,
   "id": "e7ed8d54-658d-4880-91f2-e42db17dd4b4",
   "metadata": {},
   "outputs": [
    {
     "name": "stdout",
     "output_type": "stream",
     "text": [
      "{'name': ['Ola', 'Ummi', 'Faisal'], 'age': [32, 45, 69], 'country': ['Nigeria', 'Rwanda', 'Congo']}\n"
     ]
    }
   ],
   "source": [
    "my_dict['name'][0] = 'Ola'\n",
    "print(my_dict)"
   ]
  },
  {
   "cell_type": "code",
   "execution_count": 77,
   "id": "5863ed84-2389-497c-a7a4-4072f507f68a",
   "metadata": {},
   "outputs": [
    {
     "data": {
      "text/plain": [
       "['Abdul', 'Ummi', 'Faisal']"
      ]
     },
     "execution_count": 77,
     "metadata": {},
     "output_type": "execute_result"
    }
   ],
   "source": [
    "my_dict['name']"
   ]
  },
  {
   "cell_type": "code",
   "execution_count": 79,
   "id": "65f9d6bc-2403-48b3-9c61-9e626d270aa1",
   "metadata": {},
   "outputs": [
    {
     "data": {
      "text/plain": [
       "[32, 45, 69]"
      ]
     },
     "execution_count": 79,
     "metadata": {},
     "output_type": "execute_result"
    }
   ],
   "source": [
    "my_dict.get('age')"
   ]
  },
  {
   "cell_type": "code",
   "execution_count": 81,
   "id": "678e0266-6129-4112-b84e-0b8461755a0f",
   "metadata": {},
   "outputs": [
    {
     "data": {
      "text/plain": [
       "dict_keys(['name', 'age', 'country'])"
      ]
     },
     "execution_count": 81,
     "metadata": {},
     "output_type": "execute_result"
    }
   ],
   "source": [
    "my_dict.keys()"
   ]
  },
  {
   "cell_type": "code",
   "execution_count": 83,
   "id": "2b765b4f-d202-4bc4-88a7-b508436c67bb",
   "metadata": {},
   "outputs": [
    {
     "data": {
      "text/plain": [
       "dict_values([['Abdul', 'Ummi', 'Faisal'], [32, 45, 69], ['Nigeria', 'Rwanda', 'Congo']])"
      ]
     },
     "execution_count": 83,
     "metadata": {},
     "output_type": "execute_result"
    }
   ],
   "source": [
    "my_dict.values()"
   ]
  },
  {
   "cell_type": "code",
   "execution_count": 135,
   "id": "1f866c41-3dd7-47c5-bbb4-337469cc70d4",
   "metadata": {},
   "outputs": [],
   "source": [
    "#Tuple\n",
    "\n",
    "my_tup = (10, 'ade', True, 'banana', 65, 7.3, 4)"
   ]
  },
  {
   "cell_type": "code",
   "execution_count": 89,
   "id": "9dd7d7bc-e419-47c5-b44e-750a9b1cbdd9",
   "metadata": {},
   "outputs": [
    {
     "name": "stdout",
     "output_type": "stream",
     "text": [
      "<class 'tuple'>\n"
     ]
    }
   ],
   "source": [
    "print(type(my_tup))"
   ]
  },
  {
   "cell_type": "code",
   "execution_count": 91,
   "id": "e3ceca67-f48d-49dd-8088-13c602570b27",
   "metadata": {},
   "outputs": [
    {
     "data": {
      "text/plain": [
       "'ade'"
      ]
     },
     "execution_count": 91,
     "metadata": {},
     "output_type": "execute_result"
    }
   ],
   "source": [
    "my_tup[1]"
   ]
  },
  {
   "cell_type": "code",
   "execution_count": 101,
   "id": "0b3abf54-c5ef-49f2-85b8-04cc58fcc5d5",
   "metadata": {},
   "outputs": [
    {
     "data": {
      "text/plain": [
       "('ade', True, 'banana', 65, 7.3, 4)"
      ]
     },
     "execution_count": 101,
     "metadata": {},
     "output_type": "execute_result"
    }
   ],
   "source": [
    "my_tup[1:]"
   ]
  },
  {
   "cell_type": "code",
   "execution_count": 103,
   "id": "54727dd3-09db-4d34-bfab-c52e22b3af49",
   "metadata": {},
   "outputs": [],
   "source": [
    "#Set \n",
    "my_set = {1, 2, 1, 5, 6, 6}"
   ]
  },
  {
   "cell_type": "code",
   "execution_count": 105,
   "id": "56d06021-40ec-45d8-a96b-1369cbb70c95",
   "metadata": {},
   "outputs": [
    {
     "name": "stdout",
     "output_type": "stream",
     "text": [
      "{1, 2, 5, 6}\n"
     ]
    }
   ],
   "source": [
    "print(my_set)"
   ]
  },
  {
   "cell_type": "code",
   "execution_count": 107,
   "id": "9543c98f-09f5-427f-be36-fcfb7e5912ec",
   "metadata": {},
   "outputs": [
    {
     "ename": "TypeError",
     "evalue": "'set' object is not subscriptable",
     "output_type": "error",
     "traceback": [
      "\u001b[1;31m---------------------------------------------------------------------------\u001b[0m",
      "\u001b[1;31mTypeError\u001b[0m                                 Traceback (most recent call last)",
      "Cell \u001b[1;32mIn[107], line 1\u001b[0m\n\u001b[1;32m----> 1\u001b[0m \u001b[43mmy_set\u001b[49m\u001b[43m[\u001b[49m\u001b[38;5;241;43m1\u001b[39;49m\u001b[43m]\u001b[49m\n",
      "\u001b[1;31mTypeError\u001b[0m: 'set' object is not subscriptable"
     ]
    }
   ],
   "source": [
    "my_set[1]"
   ]
  },
  {
   "cell_type": "code",
   "execution_count": 117,
   "id": "a328d86e-bd68-4ff9-b045-676546ea4a71",
   "metadata": {},
   "outputs": [],
   "source": [
    "list4 = my_list.extend(['True', 'banana'])"
   ]
  },
  {
   "cell_type": "code",
   "execution_count": 123,
   "id": "eacd33c7-1cb1-4aee-a8a1-12075ef1d83f",
   "metadata": {},
   "outputs": [
    {
     "data": {
      "text/plain": [
       "[10, 'bola', True, 'banana', 65, 7.3, 'True', 'banana', 'True', 'banana']"
      ]
     },
     "execution_count": 123,
     "metadata": {},
     "output_type": "execute_result"
    }
   ],
   "source": [
    "my_list"
   ]
  },
  {
   "cell_type": "code",
   "execution_count": 125,
   "id": "76582e70-0f2b-4a1d-a1de-6a01e287ee03",
   "metadata": {},
   "outputs": [],
   "source": [
    "list4 = my_list.copy()"
   ]
  },
  {
   "cell_type": "code",
   "execution_count": 127,
   "id": "a024d7ba-45ef-48e9-a38d-61448814e65e",
   "metadata": {},
   "outputs": [
    {
     "data": {
      "text/plain": [
       "[10, 'bola', True, 'banana', 65, 7.3, 'True', 'banana', 'True', 'banana']"
      ]
     },
     "execution_count": 127,
     "metadata": {},
     "output_type": "execute_result"
    }
   ],
   "source": [
    "list4"
   ]
  },
  {
   "cell_type": "code",
   "execution_count": 129,
   "id": "992a323a-4e61-4206-b124-b5025034ba0a",
   "metadata": {},
   "outputs": [
    {
     "data": {
      "text/plain": [
       "{10, 65, 7.3, True, 'True', 'banana', 'bola'}"
      ]
     },
     "execution_count": 129,
     "metadata": {},
     "output_type": "execute_result"
    }
   ],
   "source": [
    "set(list4)"
   ]
  },
  {
   "cell_type": "code",
   "execution_count": 133,
   "id": "5b6d8c37-bb25-4be9-844a-95bfb91674e2",
   "metadata": {},
   "outputs": [
    {
     "data": {
      "text/plain": [
       "{1, 2, 5, 6}"
      ]
     },
     "execution_count": 133,
     "metadata": {},
     "output_type": "execute_result"
    }
   ],
   "source": [
    "my_set"
   ]
  },
  {
   "cell_type": "markdown",
   "id": "cc133069-d48d-466b-a1ed-2e5880a95800",
   "metadata": {},
   "source": [
    "# Conditional Statements"
   ]
  },
  {
   "cell_type": "code",
   "execution_count": 15,
   "id": "66cf3f75-7e22-4e8f-be30-5621436c4d7e",
   "metadata": {},
   "outputs": [
    {
     "name": "stdin",
     "output_type": "stream",
     "text": [
      "Enter an integer:  5.5\n"
     ]
    }
   ],
   "source": [
    "# IF statement: Always evaluates as long as the its condition is True\n",
    "number = eval(input(\"Enter an integer: \"))\n",
    "if number % 5 == 0:\n",
    "    print(\"High Five\")\n",
    "if number % 2 == 0:\n",
    "    print(\"High Even\")"
   ]
  },
  {
   "cell_type": "code",
   "execution_count": 17,
   "id": "c0d4afc3-f585-4e19-9084-898045812d79",
   "metadata": {},
   "outputs": [
    {
     "name": "stdin",
     "output_type": "stream",
     "text": [
      "Enter an integer:  5.5\n"
     ]
    },
    {
     "name": "stdout",
     "output_type": "stream",
     "text": [
      "Odd\n"
     ]
    }
   ],
   "source": [
    "# IF ELSE Statement: decides which statement to execute based on whether the condition is True or False\n",
    "# Eample 1: Even odd Evaluator\n",
    "number = eval(input(\"Enter an integer: \"))\n",
    "if number % 2 == 0:\n",
    "    print(\"Even\")\n",
    "else:\n",
    "    print(\"Odd\")"
   ]
  },
  {
   "cell_type": "code",
   "execution_count": 27,
   "id": "25a3839f-68f4-4103-8617-6d7d7e99d52c",
   "metadata": {},
   "outputs": [
    {
     "name": "stdin",
     "output_type": "stream",
     "text": [
      "Enter a value for the radius:  5\n"
     ]
    },
    {
     "name": "stdout",
     "output_type": "stream",
     "text": [
      "The area of a circle with radius of 5 is 78.5398.\n"
     ]
    }
   ],
   "source": [
    "# Example 2: Find the area of a circle if the radius is a non-negative number\n",
    "import math\n",
    "radius = eval(input(\"Enter a value for the radius: \"))\n",
    "if radius >= 0:\n",
    "    area = math.pi * radius**2\n",
    "    print(\"The area of a circle with radius of {} is {:.4f}.\".format(radius, area))"
   ]
  },
  {
   "cell_type": "code",
   "execution_count": 29,
   "id": "1edb016b-a4c7-4a05-956a-772df34fae34",
   "metadata": {},
   "outputs": [
    {
     "name": "stdin",
     "output_type": "stream",
     "text": [
      "Enter your score:  50\n"
     ]
    },
    {
     "name": "stdout",
     "output_type": "stream",
     "text": [
      "Your grade for your exam score is C\n"
     ]
    }
   ],
   "source": [
    "# IF ElIF ELSE Statement: The ELIF allows us to have multiple alternatives\n",
    "#Example: The Grade Calculator\n",
    "score = eval(input(\"Enter your score: \"))\n",
    "if score >= 70:\n",
    "    grade = 'A'\n",
    "elif score >= 60:\n",
    "    grade = 'B'\n",
    "elif score >= 50:\n",
    "    grade = 'C'\n",
    "elif score >= 40:\n",
    "    grade = 'D'\n",
    "else:\n",
    "    grade = 'F'\n",
    "print(f\"Your grade for your exam score is {grade}\")"
   ]
  },
  {
   "cell_type": "markdown",
   "id": "5eb05e8a-9e06-4984-85fe-4564fa0ebb65",
   "metadata": {},
   "source": [
    "# Loops"
   ]
  },
  {
   "cell_type": "code",
   "execution_count": 32,
   "id": "2470f779-c088-42b6-8b11-ef3f3d9d7f65",
   "metadata": {},
   "outputs": [
    {
     "name": "stdout",
     "output_type": "stream",
     "text": [
      "TheColossalTechie is 6 foot 5 inches tall\n",
      "TheColossalTechie is 6 foot 5 inches tall\n",
      "TheColossalTechie is 6 foot 5 inches tall\n",
      "TheColossalTechie is 6 foot 5 inches tall\n",
      "TheColossalTechie is 6 foot 5 inches tall\n"
     ]
    }
   ],
   "source": [
    "# Loops are used to run a program repeatedly\n",
    "# Example 1: Print the TheColossalTechie is 6 foot 5inches tall 5 times\n",
    "print(\"TheColossalTechie is 6 foot 5 inches tall\")\n",
    "print(\"TheColossalTechie is 6 foot 5 inches tall\")\n",
    "print(\"TheColossalTechie is 6 foot 5 inches tall\")\n",
    "print(\"TheColossalTechie is 6 foot 5 inches tall\")\n",
    "print(\"TheColossalTechie is 6 foot 5 inches tall\")"
   ]
  },
  {
   "cell_type": "code",
   "execution_count": 34,
   "id": "f8f0e879-5474-4d9f-a76a-d447480e0f19",
   "metadata": {},
   "outputs": [
    {
     "name": "stdout",
     "output_type": "stream",
     "text": [
      "TheColossalTechie is 6 foot 5 inches\n",
      "TheColossalTechie is 6 foot 5 inches\n",
      "TheColossalTechie is 6 foot 5 inches\n",
      "TheColossalTechie is 6 foot 5 inches\n",
      "TheColossalTechie is 6 foot 5 inches\n"
     ]
    }
   ],
   "source": [
    "#With loops\n",
    "# For Loop\n",
    "for i in range(0, 5):\n",
    "    print(\"TheColossalTechie is 6 foot 5 inches\")"
   ]
  },
  {
   "cell_type": "code",
   "execution_count": 36,
   "id": "c6a21ce7-e320-4df2-8f52-5ca41b9c6755",
   "metadata": {},
   "outputs": [
    {
     "name": "stdout",
     "output_type": "stream",
     "text": [
      "TheColossalTechie is 6 foot 5 inches\n",
      "TheColossalTechie is 6 foot 5 inches\n",
      "TheColossalTechie is 6 foot 5 inches\n",
      "TheColossalTechie is 6 foot 5 inches\n",
      "TheColossalTechie is 6 foot 5 inches\n"
     ]
    }
   ],
   "source": [
    "# While loop\n",
    "count = 0\n",
    "while count < 5:\n",
    "    print(\"TheColossalTechie is 6 foot 5 inches\")\n",
    "    count += 1"
   ]
  },
  {
   "cell_type": "code",
   "execution_count": 40,
   "id": "e40d4cb3-a905-4d4a-89b8-ab506ac9680c",
   "metadata": {},
   "outputs": [
    {
     "name": "stdout",
     "output_type": "stream",
     "text": [
      "45\n"
     ]
    }
   ],
   "source": [
    "# Example 2: Sum all the number from 1 - 20\n",
    "# For loop:\n",
    "sum = 0\n",
    "for i in range(1, 10):\n",
    "    sum += i\n",
    "print(sum)"
   ]
  },
  {
   "cell_type": "code",
   "execution_count": 44,
   "id": "e2cb87af-3995-48c6-aa9d-ab8db679aab5",
   "metadata": {},
   "outputs": [
    {
     "name": "stdout",
     "output_type": "stream",
     "text": [
      "45\n"
     ]
    }
   ],
   "source": [
    "# Whle Loop\n",
    "count = 1\n",
    "sum = 0\n",
    "while count < 10:\n",
    "    sum += count\n",
    "    count += 1\n",
    "print(sum)"
   ]
  },
  {
   "cell_type": "markdown",
   "id": "7f7ed60d-8ac0-44ed-8f26-42c290546b68",
   "metadata": {},
   "source": [
    " All the examples we have treated so far are called counter-controlled loop, because we know exactly the number of times we are running the loop."
   ]
  },
  {
   "cell_type": "code",
   "execution_count": 53,
   "id": "cfd97b83-b63d-4dd6-a388-8e6e1b89dec4",
   "metadata": {},
   "outputs": [
    {
     "name": "stdout",
     "output_type": "stream",
     "text": [
      "0\n",
      "1\n",
      "2\n",
      "3\n",
      "4\n"
     ]
    }
   ],
   "source": [
    "# Looping through a sequential-object type like list, strings and tuples\n",
    "\n",
    "for i in range(5):\n",
    "    print(i)"
   ]
  },
  {
   "cell_type": "code",
   "execution_count": 63,
   "id": "57e09196-7f2b-48ff-a697-2d64d234d814",
   "metadata": {},
   "outputs": [
    {
     "name": "stdout",
     "output_type": "stream",
     "text": [
      "5\n",
      "4\n",
      "3\n",
      "2\n",
      "1\n"
     ]
    }
   ],
   "source": [
    "# backwards\n",
    "for i in range(5, 0, -1):\n",
    "    print(i)"
   ]
  },
  {
   "cell_type": "code",
   "execution_count": null,
   "id": "5fd6c3dd-2c66-4f42-b412-21b04d1f5121",
   "metadata": {},
   "outputs": [],
   "source": []
  },
  {
   "cell_type": "markdown",
   "id": "9483c41a-0978-41b0-88e3-b9223d4d43fd",
   "metadata": {},
   "source": [
    "## Break and Continue"
   ]
  },
  {
   "cell_type": "markdown",
   "id": "2c751e21-cb33-4180-9df3-fb2c93b9da83",
   "metadata": {},
   "source": [
    "These keywords provides additional control to the loop"
   ]
  },
  {
   "cell_type": "code",
   "execution_count": 74,
   "id": "67cc0b23-b5c7-49ff-a2f9-ea48ce409a45",
   "metadata": {},
   "outputs": [
    {
     "name": "stdout",
     "output_type": "stream",
     "text": [
      "36\n",
      "9\n"
     ]
    }
   ],
   "source": [
    "# Break is used to terminate a loop\n",
    "count = 1\n",
    "sum = 0\n",
    "while count < 10:\n",
    "    sum += count\n",
    "    count += 1\n",
    "    if sum >= 30:\n",
    "        break\n",
    "print(sum)\n",
    "print(count)"
   ]
  },
  {
   "cell_type": "code",
   "execution_count": 78,
   "id": "2b66d563-fc63-4899-9fb1-0d0020312eff",
   "metadata": {},
   "outputs": [
    {
     "name": "stdout",
     "output_type": "stream",
     "text": [
      "54\n"
     ]
    }
   ],
   "source": [
    "# Continue is used to skip an iteration\n",
    "count = 1\n",
    "sum = 0\n",
    "while count < 10:\n",
    "    count += 1\n",
    "    #if count == 5:\n",
    "       # continue\n",
    "    sum += count\n",
    "print(sum)"
   ]
  },
  {
   "cell_type": "markdown",
   "id": "049c1302-96dd-4316-a175-29c2f8ca4f93",
   "metadata": {},
   "source": [
    "# Functions\n",
    "\n",
    "Functions can be used to define reusable code and organize and simplify code. "
   ]
  },
  {
   "cell_type": "code",
   "execution_count": 83,
   "id": "645bbccd-853d-4464-8a7e-145ea14962eb",
   "metadata": {},
   "outputs": [
    {
     "data": {
      "text/plain": [
       "5"
      ]
     },
     "execution_count": 83,
     "metadata": {},
     "output_type": "execute_result"
    }
   ],
   "source": [
    "# Example: The fuction to find the maximum of two numbers\n",
    "def max(num1, num2):\n",
    "    if num1 > num2:\n",
    "        result = num1\n",
    "    else:\n",
    "        result = num2\n",
    "    return result # Value-returning function\n",
    "\n",
    "max(5, 2)"
   ]
  },
  {
   "cell_type": "code",
   "execution_count": 85,
   "id": "5d0348cf-2db0-4a6c-8376-ad13c1b9d31f",
   "metadata": {},
   "outputs": [
    {
     "name": "stdout",
     "output_type": "stream",
     "text": [
      "TheColossalTechie is 6 foot 5 inches\n",
      "TheColossalTechie is 6 foot 5 inches\n",
      "TheColossalTechie is 6 foot 5 inches\n",
      "TheColossalTechie is 6 foot 5 inches\n",
      "TheColossalTechie is 6 foot 5 inches\n"
     ]
    }
   ],
   "source": [
    "# Example: create a function that print a message n times\n",
    "\n",
    "def printer(message, n):\n",
    "    for i in range(n):\n",
    "        print(message)\n",
    "\n",
    "printer(\"TheColossalTechie is 6 foot 5 inches\", 5)"
   ]
  },
  {
   "cell_type": "markdown",
   "id": "46609428-b1f5-4c52-80e6-ae7ae1dc3e05",
   "metadata": {},
   "source": [
    "# Exception Handling\n",
    "\n",
    "These are errors that occurs at runtime"
   ]
  },
  {
   "cell_type": "code",
   "execution_count": 116,
   "id": "9ea695e5-a254-410a-8939-26c5dd73498c",
   "metadata": {},
   "outputs": [
    {
     "name": "stdout",
     "output_type": "stream",
     "text": [
      "Enter a valid parameter\n"
     ]
    }
   ],
   "source": [
    "# Example\n",
    "def CelciusToFarenheit_RankineConverter(temp_C, unit):\n",
    "    if unit == \"F\":\n",
    "        return (temp_C * (9/5)) + 32\n",
    "    elif unit == \"R\":\n",
    "        return temp_C * (9/5) + 491.67\n",
    "    else:\n",
    "        print(\"Enter a valid parameter\")\n",
    "\n",
    "CelciusToFarenheit_RankineConverter(\"a\", 5)"
   ]
  },
  {
   "cell_type": "code",
   "execution_count": 106,
   "id": "89ab2208-50ea-4b9d-84a6-6d50db3c2614",
   "metadata": {},
   "outputs": [
    {
     "name": "stdout",
     "output_type": "stream",
     "text": [
      "Enter a valid parameter for the function\n"
     ]
    }
   ],
   "source": [
    "# How to handle this exception\n",
    "try:\n",
    "    def CelciusToFarenheit_RankineConverter(temp_C, unit):\n",
    "        if unit == \"F\":\n",
    "            return (temp_C * (9/5)) + 32\n",
    "        elif unit == \"R\":\n",
    "            return temp_C * (9/5) + 491.67\n",
    "        else:\n",
    "            print(\"Enter a valid parameter\")\n",
    "\n",
    "    CelciusToFarenheit_RankineConverter(5, R)\n",
    "except NameError :\n",
    "    print(\"Enter a valid parameter for the function\")"
   ]
  },
  {
   "cell_type": "code",
   "execution_count": 127,
   "id": "669946fc-cbda-4303-9aa1-fdc6188fafdf",
   "metadata": {},
   "outputs": [
    {
     "ename": "NameError",
     "evalue": "name 'a' is not defined",
     "output_type": "error",
     "traceback": [
      "\u001b[1;31m---------------------------------------------------------------------------\u001b[0m",
      "\u001b[1;31mNameError\u001b[0m                                 Traceback (most recent call last)",
      "Cell \u001b[1;32mIn[127], line 3\u001b[0m\n\u001b[0;32m      1\u001b[0m \u001b[38;5;28;01mdef\u001b[39;00m \u001b[38;5;21mdivider\u001b[39m(num1, num2):\n\u001b[0;32m      2\u001b[0m     \u001b[38;5;28;01mreturn\u001b[39;00m num1\u001b[38;5;241m/\u001b[39mnum2\n\u001b[1;32m----> 3\u001b[0m divider(\u001b[38;5;241m10\u001b[39m, \u001b[43ma\u001b[49m)\n",
      "\u001b[1;31mNameError\u001b[0m: name 'a' is not defined"
     ]
    }
   ],
   "source": [
    "def divider(num1, num2):\n",
    "    return num1/num2\n",
    "divider(10, a)"
   ]
  },
  {
   "cell_type": "code",
   "execution_count": 141,
   "id": "23e4031d-745e-434a-94c4-fbb8c76c9b06",
   "metadata": {},
   "outputs": [
    {
     "name": "stdout",
     "output_type": "stream",
     "text": [
      "Enter a valid number\n"
     ]
    }
   ],
   "source": [
    "# Example two\n",
    "try:\n",
    "    def divider(num1, num2):\n",
    "        return num1/num2\n",
    "    divider(10, \"a\")\n",
    "except ZeroDivisionError:\n",
    "    print(\"You can not divide by zero\")\n",
    "except (TypeError, NameError):\n",
    "    print(\"Enter a valid number\")"
   ]
  },
  {
   "cell_type": "code",
   "execution_count": null,
   "id": "702f8516-7842-447d-85a2-da767f2b459e",
   "metadata": {},
   "outputs": [],
   "source": []
  }
 ],
 "metadata": {
  "kernelspec": {
   "display_name": "Python 3 (ipykernel)",
   "language": "python",
   "name": "python3"
  },
  "language_info": {
   "codemirror_mode": {
    "name": "ipython",
    "version": 3
   },
   "file_extension": ".py",
   "mimetype": "text/x-python",
   "name": "python",
   "nbconvert_exporter": "python",
   "pygments_lexer": "ipython3",
   "version": "3.12.4"
  }
 },
 "nbformat": 4,
 "nbformat_minor": 5
}
